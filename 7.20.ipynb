{
 "cells": [
  {
   "cell_type": "markdown",
   "metadata": {},
   "source": [
    "# 函数\n",
    "\n",
    "- 函数可以用来定义可重复代码，组织和简化\n",
    "- 一般来说一个函数在实际开发中为一个小功能\n",
    "- 一个类为一个大功能\n",
    "- 同样函数的长度不要超过一屏"
   ]
  },
  {
   "cell_type": "markdown",
   "metadata": {},
   "source": [
    "Python中的所有函数实际上都是有返回值(return None),\n",
    "\n",
    "如果你没有设置return,那么Python将不显示None.\n",
    "\n",
    "如果你设置return,那么将返回出return这个值."
   ]
  },
  {
   "cell_type": "code",
   "execution_count": 29,
   "metadata": {},
   "outputs": [],
   "source": [
    "def HJN():\n",
    "    print('Hello')\n",
    "    return 1000"
   ]
  },
  {
   "cell_type": "code",
   "execution_count": 30,
   "metadata": {},
   "outputs": [
    {
     "name": "stdout",
     "output_type": "stream",
     "text": [
      "Hello\n",
      "1000\n"
     ]
    }
   ],
   "source": [
    "b=HJN()\n",
    "print(b)"
   ]
  },
  {
   "cell_type": "code",
   "execution_count": 3,
   "metadata": {},
   "outputs": [
    {
     "data": {
      "text/plain": [
       "<function __main__.HJN()>"
      ]
     },
     "execution_count": 3,
     "metadata": {},
     "output_type": "execute_result"
    }
   ],
   "source": [
    "HJN"
   ]
  },
  {
   "cell_type": "code",
   "execution_count": 10,
   "metadata": {},
   "outputs": [],
   "source": [
    "def panduan(number):\n",
    "    if number % 2 == 0:\n",
    "        print('O')\n",
    "    else:\n",
    "        print('J')"
   ]
  },
  {
   "cell_type": "code",
   "execution_count": 13,
   "metadata": {},
   "outputs": [
    {
     "name": "stdout",
     "output_type": "stream",
     "text": [
      "J\n"
     ]
    }
   ],
   "source": [
    "panduan(number=1)"
   ]
  },
  {
   "cell_type": "code",
   "execution_count": 12,
   "metadata": {},
   "outputs": [
    {
     "name": "stdout",
     "output_type": "stream",
     "text": [
      "O\n"
     ]
    }
   ],
   "source": [
    "panduan(2)"
   ]
  },
  {
   "cell_type": "markdown",
   "metadata": {},
   "source": [
    "## 定义一个函数\n",
    "\n",
    "def function_name(list of parameters):\n",
    "    \n",
    "    do something\n",
    "![](../Photo/69.png)\n",
    "- 以前使用的random 或者range 或者print.. 其实都是函数或者类"
   ]
  },
  {
   "cell_type": "markdown",
   "metadata": {},
   "source": [
    "函数的参数如果有默认值的情况,当你调用该函数的时候:\n",
    "可以不给予参数值,那么就会走该参数的默认值\n",
    "否则的话,就走你给予的参数值."
   ]
  },
  {
   "cell_type": "code",
   "execution_count": 31,
   "metadata": {},
   "outputs": [],
   "source": [
    "import random"
   ]
  },
  {
   "cell_type": "code",
   "execution_count": null,
   "metadata": {},
   "outputs": [],
   "source": [
    "def hahah():\n",
    "    n = random.randint(0,5)\n",
    "    while 1:\n",
    "        N = eval(input('>>'))\n",
    "        if n == N:\n",
    "            print('smart')\n",
    "            break\n",
    "        elif n < N:\n",
    "            print('太小了')\n",
    "        elif n > N:\n",
    "            print('太大了')\n"
   ]
  },
  {
   "cell_type": "markdown",
   "metadata": {},
   "source": [
    "## 调用一个函数\n",
    "- functionName()\n",
    "- \"()\" 就代表调用"
   ]
  },
  {
   "cell_type": "code",
   "execution_count": 1,
   "metadata": {},
   "outputs": [],
   "source": [
    "def H():\n",
    "    print('hahaha')"
   ]
  },
  {
   "cell_type": "code",
   "execution_count": 2,
   "metadata": {},
   "outputs": [],
   "source": [
    "def B():\n",
    "    H()"
   ]
  },
  {
   "cell_type": "code",
   "execution_count": 3,
   "metadata": {
    "scrolled": true
   },
   "outputs": [
    {
     "name": "stdout",
     "output_type": "stream",
     "text": [
      "hahaha\n"
     ]
    }
   ],
   "source": [
    "B()"
   ]
  },
  {
   "cell_type": "code",
   "execution_count": 4,
   "metadata": {},
   "outputs": [],
   "source": [
    "def A(f):\n",
    "    f()"
   ]
  },
  {
   "cell_type": "code",
   "execution_count": 5,
   "metadata": {},
   "outputs": [
    {
     "name": "stdout",
     "output_type": "stream",
     "text": [
      "hahaha\n"
     ]
    }
   ],
   "source": [
    "A(B)"
   ]
  },
  {
   "cell_type": "markdown",
   "metadata": {},
   "source": [
    "![](../Photo/70.png)"
   ]
  },
  {
   "cell_type": "markdown",
   "metadata": {},
   "source": [
    "## 带返回值和不带返回值的函数\n",
    "- return 返回的内容\n",
    "- return 返回多个值\n",
    "- 一般情况下，在多个函数协同完成一个功能的时候，那么将会有返回值"
   ]
  },
  {
   "cell_type": "markdown",
   "metadata": {},
   "source": [
    "![](../Photo/71.png)\n",
    "\n",
    "- 当然也可以自定义返回None"
   ]
  },
  {
   "cell_type": "markdown",
   "metadata": {},
   "source": [
    "## EP：\n",
    "![](../Photo/72.png)"
   ]
  },
  {
   "cell_type": "code",
   "execution_count": 8,
   "metadata": {},
   "outputs": [],
   "source": [
    "def main():\n",
    "    print(min(min(5,6),(51,6)))\n",
    "def min(n1,n2):\n",
    "    a = n1\n",
    "    if n2 < a:\n",
    "        a = n2"
   ]
  },
  {
   "cell_type": "code",
   "execution_count": 9,
   "metadata": {},
   "outputs": [
    {
     "ename": "TypeError",
     "evalue": "'<' not supported between instances of 'tuple' and 'NoneType'",
     "output_type": "error",
     "traceback": [
      "\u001b[0;31m---------------------------------------------------------------------------\u001b[0m",
      "\u001b[0;31mTypeError\u001b[0m                                 Traceback (most recent call last)",
      "\u001b[0;32m<ipython-input-9-263240bbee7e>\u001b[0m in \u001b[0;36m<module>\u001b[0;34m\u001b[0m\n\u001b[0;32m----> 1\u001b[0;31m \u001b[0mmain\u001b[0m\u001b[0;34m(\u001b[0m\u001b[0;34m)\u001b[0m\u001b[0;34m\u001b[0m\u001b[0;34m\u001b[0m\u001b[0m\n\u001b[0m",
      "\u001b[0;32m<ipython-input-8-a7c84f32bfda>\u001b[0m in \u001b[0;36mmain\u001b[0;34m()\u001b[0m\n\u001b[1;32m      1\u001b[0m \u001b[0;32mdef\u001b[0m \u001b[0mmain\u001b[0m\u001b[0;34m(\u001b[0m\u001b[0;34m)\u001b[0m\u001b[0;34m:\u001b[0m\u001b[0;34m\u001b[0m\u001b[0;34m\u001b[0m\u001b[0m\n\u001b[0;32m----> 2\u001b[0;31m     \u001b[0mprint\u001b[0m\u001b[0;34m(\u001b[0m\u001b[0mmin\u001b[0m\u001b[0;34m(\u001b[0m\u001b[0mmin\u001b[0m\u001b[0;34m(\u001b[0m\u001b[0;36m5\u001b[0m\u001b[0;34m,\u001b[0m\u001b[0;36m6\u001b[0m\u001b[0;34m)\u001b[0m\u001b[0;34m,\u001b[0m\u001b[0;34m(\u001b[0m\u001b[0;36m51\u001b[0m\u001b[0;34m,\u001b[0m\u001b[0;36m6\u001b[0m\u001b[0;34m)\u001b[0m\u001b[0;34m)\u001b[0m\u001b[0;34m)\u001b[0m\u001b[0;34m\u001b[0m\u001b[0;34m\u001b[0m\u001b[0m\n\u001b[0m\u001b[1;32m      3\u001b[0m \u001b[0;32mdef\u001b[0m \u001b[0mmin\u001b[0m\u001b[0;34m(\u001b[0m\u001b[0mn1\u001b[0m\u001b[0;34m,\u001b[0m\u001b[0mn2\u001b[0m\u001b[0;34m)\u001b[0m\u001b[0;34m:\u001b[0m\u001b[0;34m\u001b[0m\u001b[0;34m\u001b[0m\u001b[0m\n\u001b[1;32m      4\u001b[0m     \u001b[0ma\u001b[0m \u001b[0;34m=\u001b[0m \u001b[0mn1\u001b[0m\u001b[0;34m\u001b[0m\u001b[0;34m\u001b[0m\u001b[0m\n\u001b[1;32m      5\u001b[0m     \u001b[0;32mif\u001b[0m \u001b[0mn2\u001b[0m \u001b[0;34m<\u001b[0m \u001b[0ma\u001b[0m\u001b[0;34m:\u001b[0m\u001b[0;34m\u001b[0m\u001b[0;34m\u001b[0m\u001b[0m\n",
      "\u001b[0;32m<ipython-input-8-a7c84f32bfda>\u001b[0m in \u001b[0;36mmin\u001b[0;34m(n1, n2)\u001b[0m\n\u001b[1;32m      3\u001b[0m \u001b[0;32mdef\u001b[0m \u001b[0mmin\u001b[0m\u001b[0;34m(\u001b[0m\u001b[0mn1\u001b[0m\u001b[0;34m,\u001b[0m\u001b[0mn2\u001b[0m\u001b[0;34m)\u001b[0m\u001b[0;34m:\u001b[0m\u001b[0;34m\u001b[0m\u001b[0;34m\u001b[0m\u001b[0m\n\u001b[1;32m      4\u001b[0m     \u001b[0ma\u001b[0m \u001b[0;34m=\u001b[0m \u001b[0mn1\u001b[0m\u001b[0;34m\u001b[0m\u001b[0;34m\u001b[0m\u001b[0m\n\u001b[0;32m----> 5\u001b[0;31m     \u001b[0;32mif\u001b[0m \u001b[0mn2\u001b[0m \u001b[0;34m<\u001b[0m \u001b[0ma\u001b[0m\u001b[0;34m:\u001b[0m\u001b[0;34m\u001b[0m\u001b[0;34m\u001b[0m\u001b[0m\n\u001b[0m\u001b[1;32m      6\u001b[0m         \u001b[0ma\u001b[0m \u001b[0;34m=\u001b[0m \u001b[0mn2\u001b[0m\u001b[0;34m\u001b[0m\u001b[0;34m\u001b[0m\u001b[0m\n",
      "\u001b[0;31mTypeError\u001b[0m: '<' not supported between instances of 'tuple' and 'NoneType'"
     ]
    }
   ],
   "source": [
    "main()"
   ]
  },
  {
   "cell_type": "markdown",
   "metadata": {},
   "source": [
    "## 类型和关键字参数\n",
    "- 普通参数\n",
    "- 多个参数\n",
    "- 默认值参数\n",
    "- 不定长参数"
   ]
  },
  {
   "cell_type": "markdown",
   "metadata": {},
   "source": [
    "## 普通参数"
   ]
  },
  {
   "cell_type": "markdown",
   "metadata": {},
   "source": [
    "## 多个参数"
   ]
  },
  {
   "cell_type": "markdown",
   "metadata": {},
   "source": [
    "## 默认值参数"
   ]
  },
  {
   "cell_type": "markdown",
   "metadata": {},
   "source": [
    "## 强制命名"
   ]
  },
  {
   "cell_type": "code",
   "execution_count": 60,
   "metadata": {},
   "outputs": [],
   "source": [
    "def U(str_):\n",
    "    xiaoxie = 0\n",
    "    for i in str_:\n",
    "        ASCII = ord(i)\n",
    "        if 97<=ASCII<=122:\n",
    "            xiaoxie +=1\n",
    "        elif xxxx:\n",
    "            daxie += 1\n",
    "        elif xxxx:\n",
    "            shuzi += 1\n",
    "    return xiaoxie,daxie,shuzi"
   ]
  },
  {
   "cell_type": "code",
   "execution_count": 61,
   "metadata": {},
   "outputs": [
    {
     "name": "stdout",
     "output_type": "stream",
     "text": [
      "H\n",
      "J\n",
      "i\n",
      "1\n",
      "2\n"
     ]
    }
   ],
   "source": [
    "U('HJi12')"
   ]
  },
  {
   "cell_type": "markdown",
   "metadata": {},
   "source": [
    "## 不定长参数\n",
    "- \\*args\n",
    "> - 不定长，来多少装多少，不装也是可以的\n",
    "  - 返回的数据类型是元组\n",
    "  - args 名字是可以修改的，只是我们约定俗成的是args\n",
    "- \\**kwargs \n",
    "> - 返回的字典\n",
    "  - 输入的一定要是表达式（键值对）\n",
    "- name,\\*args,name2,\\**kwargs  使用参数名"
   ]
  },
  {
   "cell_type": "code",
   "execution_count": null,
   "metadata": {},
   "outputs": [],
   "source": [
    "def TT(a,b)"
   ]
  },
  {
   "cell_type": "code",
   "execution_count": 51,
   "metadata": {},
   "outputs": [
    {
     "name": "stdout",
     "output_type": "stream",
     "text": [
      "{'a': 100, 'b': 1000}\n",
      "(1, 2, 3, 4, 6)\n"
     ]
    }
   ],
   "source": [
    "def TT(*args,**kwargs):\n",
    "    print(kwargs)\n",
    "    print(args)\n",
    "TT(1,2,3,4,6,a=100,b=1000)"
   ]
  },
  {
   "cell_type": "code",
   "execution_count": 13,
   "metadata": {},
   "outputs": [
    {
     "name": "stdout",
     "output_type": "stream",
     "text": [
      "()\n"
     ]
    }
   ],
   "source": [
    "{'key':'value'}"
   ]
  },
  {
   "cell_type": "code",
   "execution_count": 14,
   "metadata": {
    "scrolled": true
   },
   "outputs": [
    {
     "name": "stdout",
     "output_type": "stream",
     "text": [
      "(1, 2, 4, 5, 7, 8, 9)\n"
     ]
    }
   ],
   "source": [
    "TT(1,2,4,5,7,8,9,)"
   ]
  },
  {
   "cell_type": "code",
   "execution_count": 38,
   "metadata": {},
   "outputs": [],
   "source": [
    "def B(name1,nam3):\n",
    "    pass"
   ]
  },
  {
   "cell_type": "code",
   "execution_count": 39,
   "metadata": {},
   "outputs": [
    {
     "ename": "SyntaxError",
     "evalue": "positional argument follows keyword argument (<ipython-input-39-bd6a38e58465>, line 1)",
     "output_type": "error",
     "traceback": [
      "\u001b[0;36m  File \u001b[0;32m\"<ipython-input-39-bd6a38e58465>\"\u001b[0;36m, line \u001b[0;32m1\u001b[0m\n\u001b[0;31m    B(name1=100,2)\u001b[0m\n\u001b[0m               ^\u001b[0m\n\u001b[0;31mSyntaxError\u001b[0m\u001b[0;31m:\u001b[0m positional argument follows keyword argument\n"
     ]
    }
   ],
   "source": [
    "B(name1=100,2)"
   ]
  },
  {
   "cell_type": "code",
   "execution_count": 43,
   "metadata": {},
   "outputs": [],
   "source": [
    "def sum_(*args,A='sum'):\n",
    "    \n",
    "    res = 0\n",
    "    count = 0\n",
    "    for i in args:\n",
    "        res +=i\n",
    "        count += 1\n",
    "    if A == \"sum\":\n",
    "        return res\n",
    "    elif A == \"mean\":\n",
    "        mean = res / count\n",
    "        return res,mean\n",
    "    else:\n",
    "        print(A,'还未开放')\n",
    "    \n",
    "    "
   ]
  },
  {
   "cell_type": "code",
   "execution_count": 46,
   "metadata": {},
   "outputs": [
    {
     "name": "stdout",
     "output_type": "stream",
     "text": [
      "var 还未开放\n"
     ]
    }
   ],
   "source": [
    "sum_(-1,0,1,4,A='var')"
   ]
  },
  {
   "cell_type": "code",
   "execution_count": null,
   "metadata": {},
   "outputs": [],
   "source": [
    "'aHbK134'.__iter__"
   ]
  },
  {
   "cell_type": "code",
   "execution_count": 48,
   "metadata": {},
   "outputs": [
    {
     "name": "stdout",
     "output_type": "stream",
     "text": [
      "a\n",
      "s\n",
      "d\n",
      "k\n",
      "j\n",
      "f\n",
      "h\n"
     ]
    }
   ],
   "source": [
    "b = 'asdkjfh'\n",
    "for i in b :\n",
    "    print(i)"
   ]
  },
  {
   "cell_type": "code",
   "execution_count": null,
   "metadata": {},
   "outputs": [],
   "source": [
    "2,5\n",
    "2 + 22 + 222 + 2222 + 22222"
   ]
  },
  {
   "cell_type": "markdown",
   "metadata": {},
   "source": [
    "## 变量的作用域\n",
    "- 局部变量 local\n",
    "- 全局变量 global\n",
    "- globals 函数返回一个全局变量的字典，包括所有导入的变量\n",
    "- locals() 函数会以字典类型返回当前位置的全部局部变量。"
   ]
  },
  {
   "cell_type": "code",
   "execution_count": 54,
   "metadata": {},
   "outputs": [
    {
     "name": "stdout",
     "output_type": "stream",
     "text": [
      "1100\n"
     ]
    }
   ],
   "source": [
    "a = 1000\n",
    "b = 10\n",
    "def Y():\n",
    "    global a,b\n",
    "    a += 100\n",
    "    print(a)\n",
    "Y()"
   ]
  },
  {
   "cell_type": "code",
   "execution_count": 55,
   "metadata": {},
   "outputs": [
    {
     "name": "stdout",
     "output_type": "stream",
     "text": [
      "1200\n",
      "1100\n"
     ]
    }
   ],
   "source": [
    "def YY(a1):\n",
    "    a1 += 100\n",
    "    print(a1)\n",
    "YY(a)\n",
    "print(a)"
   ]
  },
  {
   "cell_type": "markdown",
   "metadata": {},
   "source": [
    "## 注意：\n",
    "- global ：在进行赋值操作的时候需要声明\n",
    "- 官方解释：This is because when you make an assignment to a variable in a scope, that variable becomes local to that scope and shadows any similarly named variable in the outer scope.\n",
    "- ![](../Photo/73.png)"
   ]
  },
  {
   "cell_type": "markdown",
   "metadata": {},
   "source": [
    "# Homework\n",
    "- 1\n",
    "![](../Photo/74.png)"
   ]
  },
  {
   "cell_type": "code",
   "execution_count": 30,
   "metadata": {},
   "outputs": [
    {
     "name": "stdout",
     "output_type": "stream",
     "text": [
      "1 5 12 22 35 51 70 92 117 145 \n",
      "176 210 247 287 330 376 425 477 532 590 \n",
      "651 715 782 852 925 1001 1080 1162 1247 1335 \n",
      "1426 1520 1617 1717 1820 1926 2035 2147 2262 2380 \n",
      "2501 2625 2752 2882 3015 3151 3290 3432 3577 3725 \n",
      "3876 4030 4187 4347 4510 4676 4845 5017 5192 5370 \n",
      "5551 5735 5922 6112 6305 6501 6700 6902 7107 7315 \n",
      "7526 7740 7957 8177 8400 8626 8855 9087 9322 9560 \n",
      "9801 10045 10292 10542 10795 11051 11310 11572 11837 12105 \n",
      "12376 12650 12927 13207 13490 13776 14065 14357 14652 14950 \n"
     ]
    }
   ],
   "source": [
    "def getPentagonalNumber(n):\n",
    "    c = 0\n",
    "    for n in range(1,101):\n",
    "        x = n * (3 * n - 1) / 2 \n",
    "        c += 1\n",
    "        print(int(x),end=\" \")\n",
    "        if c % 10 == 0:\n",
    "            print() \n",
    "getPentagonalNumber(100)\n"
   ]
  },
  {
   "cell_type": "markdown",
   "metadata": {},
   "source": [
    "- 2 \n",
    "![](../Photo/75.png)"
   ]
  },
  {
   "cell_type": "code",
   "execution_count": 6,
   "metadata": {},
   "outputs": [
    {
     "name": "stdout",
     "output_type": "stream",
     "text": [
      "9\n"
     ]
    }
   ],
   "source": [
    "def sumDigits(n):\n",
    "    import math\n",
    "    a = n\n",
    "    Num = 0\n",
    "    while a != 0:\n",
    "        b = a%10\n",
    "        a = math.floor(a/10)\n",
    "        Num += b\n",
    "    return Num\n",
    "print(sumDigits(234))"
   ]
  },
  {
   "cell_type": "markdown",
   "metadata": {},
   "source": [
    "- 3\n",
    "![](../Photo/76.png)"
   ]
  },
  {
   "cell_type": "code",
   "execution_count": 3,
   "metadata": {},
   "outputs": [
    {
     "name": "stdout",
     "output_type": "stream",
     "text": [
      "Enter three number: 3,2.4,5\n",
      "2.4 3.0 5.0 "
     ]
    }
   ],
   "source": [
    "\n",
    "def displaySortedNumbers(num1,num2,num3):\n",
    "        num1,num2,num3 = map(float,input('Enter three number: ').split(','))\n",
    "        a = [num1,num2,num3]\n",
    "        b = sorted(a)\n",
    "        for c in range(len(a)):\n",
    "                print(b[c],end=\" \")\n",
    "\n",
    "    \n",
    "displaySortedNumbers(num1,num2,num3)"
   ]
  },
  {
   "cell_type": "markdown",
   "metadata": {},
   "source": [
    "- 4\n",
    "![](../Photo/77.png)"
   ]
  },
  {
   "cell_type": "code",
   "execution_count": 9,
   "metadata": {},
   "outputs": [
    {
     "name": "stdout",
     "output_type": "stream",
     "text": [
      "The amount invested1000\n",
      "Annual interest rate9\n",
      "        1    1093.81\n",
      "        2    1196.41\n",
      "        3    1308.65\n",
      "        4    1431.41\n",
      "        5    1565.68\n",
      "        6    1712.55\n",
      "        7    1873.20\n",
      "        8    2048.92\n",
      "        9    2241.12\n",
      "       10    2451.36\n",
      "       11    2681.31\n",
      "       12    2932.84\n",
      "       13    3207.96\n",
      "       14    3508.89\n",
      "       15    3838.04\n",
      "       16    4198.08\n",
      "       17    4591.89\n",
      "       18    5022.64\n",
      "       19    5493.80\n",
      "       20    6009.15\n",
      "       21    6572.85\n",
      "       22    7189.43\n",
      "       23    7863.85\n",
      "       24    8601.53\n",
      "       25    9408.41\n",
      "       26   10290.99\n",
      "       27   11256.35\n",
      "       28   12312.28\n",
      "       29   13467.25\n",
      "       30   14730.58\n"
     ]
    }
   ],
   "source": [
    "\n",
    "def futureInvestmentValue(money,rate,year):\n",
    "    for i in range(1,year*12+1):\n",
    "        money=float(1+rate/100/12)*money\n",
    "        if i%12==0:\n",
    "            print('%9d %10.2f'%((i/12),money))\n",
    "\n",
    "def start():\n",
    "    money = int(input('The amount invested'))\n",
    "    rate = int(input('Annual interest rate'))\n",
    "    futureInvestmentValue(money,rate,30)\n",
    "start()"
   ]
  },
  {
   "cell_type": "markdown",
   "metadata": {},
   "source": [
    "- 5\n",
    "![](../Photo/78.png)"
   ]
  },
  {
   "cell_type": "code",
   "execution_count": 10,
   "metadata": {},
   "outputs": [
    {
     "name": "stdout",
     "output_type": "stream",
     "text": [
      "123456789:\n",
      ";<=>?@ABCD\n",
      "EFGHIJKLMN\n",
      "OPQRSTUVWX\n",
      "YZ"
     ]
    }
   ],
   "source": [
    "def printChars(ch1,ch2,numberPerLine):\n",
    "    flag = 0\n",
    "    for j in range(0,42):\n",
    "        for i in range(ord(ch1),ord(ch2)+1):\n",
    "            print(ch1,end=\"\")\n",
    "            ch1=chr((ord(ch1)+1))\n",
    "            flag += 1\n",
    "            if flag % 10 == 0:\n",
    "                print('')\n",
    "printChars('1','Z',10)"
   ]
  },
  {
   "cell_type": "markdown",
   "metadata": {},
   "source": [
    "- 6\n",
    "![](../Photo/79.png)"
   ]
  },
  {
   "cell_type": "code",
   "execution_count": 11,
   "metadata": {},
   "outputs": [
    {
     "name": "stdout",
     "output_type": "stream",
     "text": [
      "2010年有365天\n",
      "2011年有365天\n",
      "2012年有366天\n",
      "2013年有365天\n",
      "2014年有365天\n",
      "2015年有365天\n",
      "2016年有366天\n",
      "2017年有365天\n",
      "2018年有365天\n",
      "2019年有365天\n",
      "2020年有366天\n"
     ]
    }
   ],
   "source": [
    "def numberOfDaysInAYear(year):\n",
    "    for year in range(2010,year):\n",
    "        if year % 4 == 0 and year % 100 != 0 or year % 400 == 0:\n",
    "            print('%d年有366天'%year)\n",
    "        else:\n",
    "            print('%d年有365天'%year)\n",
    "            \n",
    "numberOfDaysInAYear(2021)"
   ]
  },
  {
   "cell_type": "markdown",
   "metadata": {},
   "source": [
    "- 7\n",
    "![](../Photo/80.png)"
   ]
  },
  {
   "cell_type": "code",
   "execution_count": 12,
   "metadata": {},
   "outputs": [
    {
     "name": "stdout",
     "output_type": "stream",
     "text": [
      "x1= 1\n",
      "x2= 3\n",
      "y1= 4\n",
      "y2= 5\n",
      "2.23606797749979\n"
     ]
    }
   ],
   "source": [
    "import math\n",
    "def distance(x1,y1,x2,y2):\n",
    "    sum1 = (x1-x2) ** 2\n",
    "    sum2 = (y1-y2) ** 2\n",
    "    sum3 = math.sqrt(sum1 + sum2)\n",
    "    print(sum3)\n",
    "\n",
    "x1 = int(input('x1= '))\n",
    "x2 = int(input('x2= '))\n",
    "y1 = int(input('y1= '))\n",
    "y2 = int(input('y2= '))\n",
    "distance(x1,y1,x2,y2)"
   ]
  },
  {
   "cell_type": "markdown",
   "metadata": {},
   "source": [
    "- 8\n",
    "![](../Photo/81.png)"
   ]
  },
  {
   "cell_type": "code",
   "execution_count": 13,
   "metadata": {},
   "outputs": [
    {
     "name": "stdout",
     "output_type": "stream",
     "text": [
      "p      2^p - 1\n",
      "2        3\n",
      "3        7\n",
      "5        31\n"
     ]
    }
   ],
   "source": [
    "print('p      2^p - 1')\n",
    "def sushu():\n",
    "    for i in range(2,32):\n",
    "        for j in range(2,i):\n",
    "            if i % j == 0:\n",
    "                break\n",
    "        else: \n",
    "            for k in range(i+1):\n",
    "                    if (2 ** k) - 1 == i:\n",
    "                            print('%d        %d'%(k,i))\n",
    "sushu()"
   ]
  },
  {
   "cell_type": "markdown",
   "metadata": {},
   "source": [
    "- 9\n",
    "![](../Photo/82.png)\n",
    "![](../Photo/83.png)"
   ]
  },
  {
   "cell_type": "code",
   "execution_count": 14,
   "metadata": {},
   "outputs": [
    {
     "name": "stdout",
     "output_type": "stream",
     "text": [
      "本地时间为 : Sun Aug  4 19:06:28 2019\n"
     ]
    }
   ],
   "source": [
    "import time\n",
    "def bdtime():\n",
    "    localtime = time.asctime(time.localtime(time.time()))\n",
    "    print(\"本地时间为 :\", localtime)\n",
    "bdtime()"
   ]
  },
  {
   "cell_type": "markdown",
   "metadata": {},
   "source": [
    "- 10\n",
    "![](../Photo/84.png)"
   ]
  },
  {
   "cell_type": "code",
   "execution_count": 8,
   "metadata": {},
   "outputs": [
    {
     "name": "stdout",
     "output_type": "stream",
     "text": [
      "you rolled 1 + 3 = 4\n",
      "the point is 4\n",
      "you rolled 3 + 6 = 9\n",
      "the point is 9\n",
      "you rolled 2 + 1 = 3\n",
      "you lose\n",
      "the point is 3\n",
      "you rolled 2 + 4 = 6\n",
      "the point is 6\n",
      "you rolled 5 + 3 = 8\n",
      "the point is 8\n",
      "you rolled 1 + 4 = 5\n",
      "the point is 5\n",
      "you rolled 5 + 6 = 11\n",
      "you win\n"
     ]
    }
   ],
   "source": [
    "import random\n",
    "sezi2 = 0\n",
    "def shuaizi():\n",
    "    global sezi2\n",
    "    a = random.choice([1,2,3,4,5,6])\n",
    "    b = random.choice([1,2,3,4,5,6])\n",
    "    sezi = a+b\n",
    "    print('you rolled %d + %d = %d'%(a,b,sezi))\n",
    "    if sezi == 2 or sezi == 3 or sezi ==12 or sezi == sezi2:\n",
    "        print('you lose')\n",
    "    if sezi == 7 or sezi == 11:\n",
    "        print('you win')\n",
    "    else:\n",
    "        print('the point is %d' %sezi)\n",
    "        sezi2 = sezi\n",
    "        shuaizi()\n",
    "shuaizi()"
   ]
  },
  {
   "cell_type": "markdown",
   "metadata": {},
   "source": [
    "- 11 \n",
    "### 去网上寻找如何用Python代码发送邮件"
   ]
  },
  {
   "cell_type": "code",
   "execution_count": null,
   "metadata": {},
   "outputs": [],
   "source": [
    "def send_first_email():\n",
    "        \"\"\"\n",
    "        #发送一个纯文本邮件\n",
    "        \"\"\"\n",
    "        # 使用email模块 构造邮件\n",
    "        from email.mime.text import MIMEText\n",
    "        # 第一个参数，邮件正文\n",
    "        # 第二个参数，_subtype='plain', Content-Type:text/plain,这个应该是一种规范吧？\n",
    "        # 第三个参数 utf-8编码保证兼容\n",
    "        msg = MIMEText(\"你害怕大雨吗？\",\"plain\",\"utf-8\")\n",
    "        # 添加信息防止失败，如果收件人 发件人 标题出现乱码情况， from email.header import Header等方法进行转码\n",
    "        msg['From'] = \"Tsun<3220291261@qq.com>\" # 收件人看到的发件人信息\n",
    "        msg['To'] = \"3456789@qq.com>\"   #\n",
    "        from email.header import Header\n",
    "        msg['Subject'] = \"人生苦短，这是标题\"\n",
    "\n",
    "        # 发送email\n",
    "        import smtplib\n",
    "        # 邮件SMTP服务器，默认25端口\n",
    "        server = smtplib.SMTP(\"smtp.163.com\",25)\n",
    "        server.set_debuglevel(1) # 这句话，可以打印出和SMTP交互的所有信息\n",
    "        # 发送人的邮件和密码\n",
    "        server.login(\"3220329126@qq.com\", \"***********\")\n",
    "        # 发件人，收件人列表，msg.as_string()把MIMEText对象变成str\n",
    "        server.sendmail(\"3220329126@qq.com\", [ \"***********\"], msg.as_string())\n",
    "        print(\"发送成功了\")\n",
    "        server.quit()\n",
    "        print(\"退出\")\n",
    "send_first_email()"
   ]
  }
 ],
 "metadata": {
  "kernelspec": {
   "display_name": "Python 3",
   "language": "python",
   "name": "python3"
  },
  "language_info": {
   "codemirror_mode": {
    "name": "ipython",
    "version": 3
   },
   "file_extension": ".py",
   "mimetype": "text/x-python",
   "name": "python",
   "nbconvert_exporter": "python",
   "pygments_lexer": "ipython3",
   "version": "3.7.3"
  }
 },
 "nbformat": 4,
 "nbformat_minor": 2
}
